{
 "cells": [
  {
   "cell_type": "code",
   "execution_count": 1,
   "metadata": {
    "collapsed": false,
    "deletable": true,
    "editable": true
   },
   "outputs": [
    {
     "data": {
      "text/plain": [
       "0"
      ]
     },
     "execution_count": 1,
     "metadata": {},
     "output_type": "execute_result"
    }
   ],
   "source": [
    "import time\n",
    "import threading\n",
    "import ctcsound\n",
    "\n",
    "cs = ctcsound.Csound()\n",
    "\n",
    "csd = '''\n",
    "<CsoundSynthesizer>\n",
    "\n",
    "<CsOptions>\n",
    "  -d -o dac -m0\n",
    "</CsOptions>\n",
    "\n",
    "<CsInstruments>\n",
    "sr     = 48000\n",
    "ksmps  = 100\n",
    "nchnls = 2\n",
    "0dbfs  = 1\n",
    "\n",
    "          instr 1\n",
    "idur      =         p3\n",
    "iamp      =         p4\n",
    "icps      =         cpspch(p5)\n",
    "irise     =         p6\n",
    "idec      =         p7\n",
    "ipan      =         p8\n",
    "\n",
    "kenv      linen     iamp, irise, idur, idec\n",
    "kenv      =         kenv*kenv\n",
    "asig      poscil    kenv, icps\n",
    "a1, a2    pan2      asig, ipan\n",
    "          outs      a1, a2\n",
    "          endin\n",
    "\n",
    "instr 2\n",
    "\n",
    "; Dumb Drum 1\n",
    "kampenv expseg .0001, .01, p4, .04, .01\n",
    "asig rand kampenv\n",
    "afilt reson asig, 1000, 100\n",
    "aout  balance afilt, asig\n",
    "outs aout, aout\n",
    "\n",
    "endin\n",
    "\n",
    "instr 3\n",
    "\n",
    "; Dumb Bass Drum\n",
    "kfreqenv expseg  50,    .01, 200, .08, 50\n",
    "kampenv  expseg  .0001, .01, p4,  .08, .01\n",
    "asig     rand kampenv\n",
    "afilt    reson asig, kfreqenv, kfreqenv/8\n",
    "aout     balance afilt, asig\n",
    "outs aout, aout\n",
    "\n",
    "endin\n",
    "\n",
    "instr 4\n",
    "\n",
    "; Sorta Cool Knock Sweep Drum\n",
    "kfreqenv41 expseg  50,    .01, 200, .08, 50\n",
    "kfreqenv42 linseg  150,    .01, 1000, .08, 250\n",
    "kampenv4  linseg  0, .01, p4,  .08, 0, .01, 0\n",
    "asig     rand kampenv4\n",
    "afilt1    reson asig, kfreqenv41, kfreqenv41/8\n",
    "afilt2    reson asig, kfreqenv42, kfreqenv42/4\n",
    "aout1     balance afilt1, asig\n",
    "aout2     balance afilt2, asig\n",
    "outs (aout1+aout2)/2, (aout1+aout2)/2\n",
    "\n",
    "endin\n",
    "\n",
    "</CsInstruments>\n",
    "\n",
    "<CsScore>\n",
    "f 0 14400    ; a 4 hours session should be enough\n",
    "</CsScore>\n",
    "</CsoundSynthesizer>\n",
    "'''\n",
    "cs.compileCsdText(csd)\n",
    "cs.start()"
   ]
  },
  {
   "cell_type": "markdown",
   "metadata": {
    "deletable": true,
    "editable": true
   },
   "source": [
    "Then, let's start a new thread, passing the opaque pointer of the Csound instance as argument:"
   ]
  },
  {
   "cell_type": "code",
   "execution_count": 2,
   "metadata": {
    "collapsed": false,
    "deletable": true,
    "editable": true
   },
   "outputs": [],
   "source": [
    "pt = ctcsound.CsoundPerformanceThread(cs.csound())\n",
    "pt.play()"
   ]
  },
  {
   "cell_type": "markdown",
   "metadata": {
    "deletable": true,
    "editable": true
   },
   "source": [
    "Now, we can send messages to the performance thread:"
   ]
  },
  {
   "cell_type": "code",
   "execution_count": 3,
   "metadata": {
    "collapsed": false,
    "deletable": true,
    "editable": true
   },
   "outputs": [],
   "source": [
    "pt.scoreEvent(False, 'i', (1, 0, 2, .5, 8.06, 2, 2, .01))#note\n",
    "pt.scoreEvent(False, 'i', (2, 0.2, 10, 2))#dumb drumb\n",
    "pt.scoreEvent(False, 'i', (3, 0.4, 10, 2))#deep base drum \n",
    "pt.scoreEvent(False, 'i', (4, 0.6 , 10, 2)) #sweep drum"
   ]
  },
  {
   "cell_type": "markdown",
   "metadata": {
    "deletable": true,
    "editable": true
   },
   "source": [
    "Or, we can play the four balls in a loop"
   ]
  },
  {
   "cell_type": "code",
   "execution_count": 4,
   "metadata": {
    "collapsed": false,
    "deletable": true,
    "editable": true
   },
   "outputs": [
    {
     "name": "stdout",
     "output_type": "stream",
     "text": [
      "play ball column  0\n",
      "play ball column  1\n",
      "play ball column  2\n",
      "play ball column  3\n",
      "play ball column  4\n",
      "play ball column  5\n",
      "play ball column  6\n",
      "play ball column  7\n"
     ]
    }
   ],
   "source": [
    "def musicOut():\n",
    "    for ball in range(0,8):\n",
    "        print('play ball column ',ball)\n",
    "        x1=0 # these are all delays .. in seconds .. the column of four balls is playing at once time\n",
    "        x2=0.1\n",
    "        x3=0.2\n",
    "        x4=0.3\n",
    "        pt.scoreEvent(False, 'i', (1, x1, 1, 1, 8.06, .01, .01, 0.01))#note\n",
    "        pt.scoreEvent(False, 'i', (2, x2, 10, 1))#dumb drumb\n",
    "        pt.scoreEvent(False, 'i', (3, x3, 10, 1))#deep base drum \n",
    "        pt.scoreEvent(False, 'i', (4, x4, 10, 1)) #sweep drum \n",
    "        time.sleep(0.3)\n",
    "        \n",
    "threading.Thread(target=musicOut).start() #this should allow the serial program to run and not drop any data"
   ]
  },
  {
   "cell_type": "code",
   "execution_count": null,
   "metadata": {
    "collapsed": true,
    "deletable": true,
    "editable": true
   },
   "outputs": [],
   "source": [
    "#may need these commands\n",
    "#pt.stop()\n",
    "#pt.join()"
   ]
  }
 ],
 "metadata": {
  "kernelspec": {
   "display_name": "Python 3",
   "language": "python",
   "name": "python3"
  },
  "language_info": {
   "codemirror_mode": {
    "name": "ipython",
    "version": 3
   },
   "file_extension": ".py",
   "mimetype": "text/x-python",
   "name": "python",
   "nbconvert_exporter": "python",
   "pygments_lexer": "ipython3",
   "version": "3.5.2"
  }
 },
 "nbformat": 4,
 "nbformat_minor": 1
}

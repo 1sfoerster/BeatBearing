{
 "cells": [
  {
   "cell_type": "markdown",
   "metadata": {
    "deletable": true,
    "editable": true
   },
   "source": [
    "## Performing orchestras, scores, and input files (.csd files)\n",
    "There are different ways to perform input files. Let's start a Csound instance:"
   ]
  },
  {
   "cell_type": "code",
   "execution_count": 1,
   "metadata": {
    "collapsed": true,
    "deletable": true,
    "editable": true
   },
   "outputs": [],
   "source": [
    "import ctcsound\n",
    "cs = ctcsound.Csound()"
   ]
  },
  {
   "cell_type": "markdown",
   "metadata": {
    "deletable": true,
    "editable": true
   },
   "source": [
    "Doing it the classical way, we compile an orchestra and a score file, passing also some flags. Note that the first argument, indicating the program name, is mandatory. This is due to the C origin of Csound. You can give as first argument to ```cs.compile_``` any string such as \"dummy\" or \"myProgram\", etc. The usage, calling C programs, is to pass the program name.\n",
    "\n",
    "If the compilation is successful, the Csound instance is ready to run a performance. Then orchestra and score are performed and the Csound instance is reset, to be ready for another performance:"
   ]
  },
  {
   "cell_type": "code",
   "execution_count": 2,
   "metadata": {
    "collapsed": false,
    "deletable": true,
    "editable": true
   },
   "outputs": [],
   "source": [
    "ret = cs.compile_(\"csound\", \"-o\", \"dac1\", \"drumMachine.orc\", \"drumTest.sco\")\n",
    "if ret == ctcsound.CSOUND_SUCCESS:\n",
    "    cs.perform()\n",
    "    cs.reset()"
   ]
  },
  {
   "cell_type": "markdown",
   "metadata": {
    "deletable": true,
    "editable": true
   },
   "source": [
    "We can do the same with a single input file (.csd file):"
   ]
  },
  {
   "cell_type": "code",
   "execution_count": null,
   "metadata": {
    "collapsed": true,
    "deletable": true,
    "editable": true
   },
   "outputs": [],
   "source": [
    "ret = cs.compileCsd(\"Beatfox.csd\")\n",
    "if ret == ctcsound.CSOUND_SUCCESS:\n",
    "    cs.start()\n",
    "    cs.perform()\n",
    "    cs.reset()"
   ]
  },
  {
   "cell_type": "code",
   "execution_count": null,
   "metadata": {
    "collapsed": true,
    "deletable": true,
    "editable": true
   },
   "outputs": [],
   "source": []
  }
 ],
 "metadata": {
  "kernelspec": {
   "display_name": "Python 3",
   "language": "python",
   "name": "python3"
  },
  "language_info": {
   "codemirror_mode": {
    "name": "ipython",
    "version": 3
   },
   "file_extension": ".py",
   "mimetype": "text/x-python",
   "name": "python",
   "nbconvert_exporter": "python",
   "pygments_lexer": "ipython3",
   "version": "3.5.2"
  }
 },
 "nbformat": 4,
 "nbformat_minor": 1
}

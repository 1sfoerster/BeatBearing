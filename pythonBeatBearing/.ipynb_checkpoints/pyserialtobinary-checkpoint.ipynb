{
 "cells": [
  {
   "cell_type": "code",
   "execution_count": 1,
   "metadata": {
    "collapsed": false,
    "deletable": true,
    "editable": true
   },
   "outputs": [
    {
     "name": "stdout",
     "output_type": "stream",
     "text": [
      "COM11\n",
      "b'-239-234-251-20\\r\\n'\n"
     ]
    }
   ],
   "source": [
    "#execute this once, it opens the serial port, after executed it will hold serial port open until kernal is restarted\n",
    "#this means have to stop kernal to use putty, arduino ide to transmit code, arduino serial monitor, or comOcom \n",
    "#only one at a time can hold open the serial port\n",
    "\n",
    "#excute a second time, kernal will try to open serial port it has already opened and generate error message\n",
    "#to recover, restart the Kernal, suggest restart and run all\n",
    "\n",
    "import serial #is an enthought canopy package .. not part of the default .. will have to use package manager to load\n",
    "import io #is a python primitive\n",
    "ser = serial.Serial('COM11',19200)  # open serial port\n",
    "print(ser.name)         # check which port was really used\n",
    "line = ser.readline()\n",
    "print(line); #first line is usually not long enough, catching in the middle of something"
   ]
  },
  {
   "cell_type": "code",
   "execution_count": 2,
   "metadata": {
    "collapsed": false,
    "deletable": true,
    "editable": true
   },
   "outputs": [
    {
     "name": "stdout",
     "output_type": "stream",
     "text": [
      "b'127-239-234-251-21'\n"
     ]
    }
   ],
   "source": [
    "#press control-enter over and over again here until get some good data\n",
    "#the first line of data above is usually partial, because USB communication is ASYNC \n",
    "################################# rant ########################################\n",
    "#here \\r\\n are used to mark the end of a line of 5 characters by the program the arduino is running\n",
    "#strip() strips off carriage return \\r and ... this is really hard to talk about\n",
    "# \\n which stands for New line in the unix world and makes sense\n",
    "# \\n which stands for Line Feed : paper advances one line on typewriter with out going to left martin) in Microsoft world\n",
    "# The confusion emerged out of the evolution of typewriters into printers versus evolution of terminals into GUI's and serial com\n",
    "# Unix got it right early on ... \\n means new line in a text editor ... not printer hardware .. \n",
    "# which gets us into a world wide crisis\n",
    "# https://blog.codinghorror.com/the-great-newline-schism/\n",
    "# end result could be double spacing on non-windows, normal single spacing on windows inside other terminal type programs\n",
    "# the other option is one huge line in windows .. and normal single spacing on everything else\n",
    "line = ser.readline().strip()\n",
    "print(line);"
   ]
  },
  {
   "cell_type": "code",
   "execution_count": 3,
   "metadata": {
    "collapsed": false,
    "deletable": true,
    "editable": true
   },
   "outputs": [
    {
     "name": "stdout",
     "output_type": "stream",
     "text": [
      "49\n"
     ]
    }
   ],
   "source": [
    "print(line[0]) #the ascii equivalent of 2 (of 231) is 50:"
   ]
  },
  {
   "cell_type": "code",
   "execution_count": 4,
   "metadata": {
    "collapsed": false,
    "deletable": true,
    "editable": true
   },
   "outputs": [
    {
     "name": "stdout",
     "output_type": "stream",
     "text": [
      "[b'127', b'239', b'234', b'251', b'21']\n",
      "b'127'\n"
     ]
    }
   ],
   "source": [
    "#b means byte object\n",
    "byteArray = (line.split(b'-')) \n",
    "print(byteArray)\n",
    "print(byteArray[0])"
   ]
  },
  {
   "cell_type": "code",
   "execution_count": 5,
   "metadata": {
    "collapsed": false,
    "deletable": true,
    "editable": true
   },
   "outputs": [
    {
     "name": "stdout",
     "output_type": "stream",
     "text": [
      "127\n"
     ]
    }
   ],
   "source": [
    "# this converts the individual bytes into a string\n",
    "sb1 = byteArray[0].decode()\n",
    "print(sb1)"
   ]
  },
  {
   "cell_type": "code",
   "execution_count": 6,
   "metadata": {
    "collapsed": false,
    "deletable": true,
    "editable": true
   },
   "outputs": [
    {
     "data": {
      "text/plain": [
       "['127', '239', '234', '251', '21']"
      ]
     },
     "execution_count": 6,
     "metadata": {},
     "output_type": "execute_result"
    }
   ],
   "source": [
    "# now want to do all of this at once (avoid a loop) here is practicing from stackexchange 2682012\n",
    "# so trying with decode and byteArray\n",
    "sb = list(map(lambda x:x.decode(),byteArray))\n",
    "sb"
   ]
  },
  {
   "cell_type": "code",
   "execution_count": 7,
   "metadata": {
    "collapsed": false,
    "deletable": true,
    "editable": true
   },
   "outputs": [
    {
     "data": {
      "text/plain": [
       "'1111111'"
      ]
     },
     "execution_count": 7,
     "metadata": {},
     "output_type": "execute_result"
    }
   ],
   "source": [
    "# now that sb is a byte list, want to turn each element into it's string binary representation \n",
    "# here is how to do it for one byte, one element of the byteArray\n",
    "\"{0:b}\".format(int(sb[0]))"
   ]
  },
  {
   "cell_type": "code",
   "execution_count": 8,
   "metadata": {
    "collapsed": false,
    "deletable": true,
    "editable": true
   },
   "outputs": [
    {
     "name": "stdout",
     "output_type": "stream",
     "text": [
      "['01111111', '11101111', '11101010', '11111011', '00010101']\n"
     ]
    }
   ],
   "source": [
    "# now want to do this for each element of the byteArray\n",
    "sbit = [None] * len(sb)\n",
    "for x in range(0,len(sb)):\n",
    "    # 0:b means display the bits of an integer\n",
    "    # z.fill(8) means put leading zero's on the string so there are 8 bits\n",
    "    # finally put everything into a string array so don't ever have to do this again\n",
    "    sbit[x] = \"{0:b}\".format(int(sb[x])).zfill(8) \n",
    "\n",
    "print(sbit)"
   ]
  },
  {
   "cell_type": "code",
   "execution_count": 10,
   "metadata": {
    "collapsed": false,
    "deletable": true,
    "editable": true
   },
   "outputs": [
    {
     "name": "stdout",
     "output_type": "stream",
     "text": [
      "['00010100', '11001001', '10110111', '11111011', '00000010']\n",
      "['00010100', '11001001', '10110111', '11111011', '00000011']\n",
      "['00010100', '11001001', '10110111', '11111011', '00000100']\n",
      "['00010100', '11001001', '10110111', '11111011', '00000101']\n",
      "['00010100', '11001001', '10110111', '11111011', '00000110']\n",
      "['00010100', '11001001', '10110111', '11111011', '00000111']\n",
      "['00010100', '11001001', '10110111', '11111011', '00001000']\n",
      "['00010100', '11001001', '10110111', '11111011', '00001001']\n",
      "['00010100', '11001001', '10110111', '11111011', '00001010']\n",
      "['00010100', '11001001', '10110111', '11111011', '00001011']\n",
      "['00010100', '11001001', '10110111', '11111011', '00001100']\n",
      "['00010100', '11001001', '10110111', '11111011', '00001101']\n",
      "['00010100', '11001001', '10110111', '11111011', '00001110']\n",
      "['00010100', '11001001', '10110111', '11111011', '00001111']\n",
      "['11110111', '01011111', '00000000', '01001100', '00010000']\n",
      "['11110111', '01011111', '00000000', '01001100', '00010001']\n",
      "['11110111', '01011111', '00000000', '01001100', '00010010']\n",
      "['11110111', '01011111', '00000000', '01001100', '00010011']\n",
      "['11110111', '01011111', '00000000', '01001100', '00010100']\n",
      "['11110111', '01011111', '00000000', '01001100', '00010101']\n",
      "['11110111', '01011111', '00000000', '01001100', '00010110']\n",
      "['11110111', '01011111', '00000000', '01001100', '00010111']\n",
      "['11110111', '01011111', '00000000', '01001100', '00011000']\n",
      "['11110111', '01011111', '00000000', '01001100', '00011001']\n",
      "['11110111', '01011111', '00000000', '01001100', '00011010']\n",
      "['11110111', '01011111', '00000000', '01001100', '00011011']\n",
      "['11110111', '01011111', '00000000', '01001100', '00011100']\n",
      "['11110111', '01011111', '00000000', '01001100', '00011101']\n",
      "['11110111', '01011111', '00000000', '01001100', '00011110']\n",
      "['11110111', '01011111', '00000000', '01001100', '00011111']\n",
      "['01111111', '10101100', '10110101', '10111111', '00100000']\n",
      "['01111111', '10101100', '10110101', '10111111', '00100001']\n",
      "['01111111', '10101100', '10110101', '10111111', '00100010']\n",
      "['01111111', '10101100', '10110101', '10111111', '00100011']\n",
      "['01111111', '10101100', '10110101', '10111111', '00100100']\n",
      "['01111111', '10101100', '10110101', '10111111', '00100101']\n",
      "['01111111', '10101100', '10110101', '10111111', '00100110']\n",
      "['01111111', '10101100', '10110101', '10111111', '00100111']\n",
      "['01111111', '10101100', '10110101', '10111111', '00101000']\n",
      "['01111111', '10101100', '10110101', '10111111', '00101001']\n",
      "['01111111', '10101100', '10110101', '10111111', '00101010']\n",
      "['01111111', '10101100', '10110101', '10111111', '00101011']\n",
      "['01111111', '10101100', '10110101', '10111111', '00101100']\n",
      "['01111111', '10101100', '10110101', '10111111', '00101101']\n",
      "['01111111', '10101100', '10110101', '10111111', '00101110']\n",
      "['01111111', '10101100', '10110101', '10111111', '00101111']\n",
      "['00101011', '11011100', '00010101', '10100101', '00000000']\n",
      "['00101011', '11011100', '00010101', '10100101', '00000001']\n"
     ]
    }
   ],
   "source": [
    "count_ticks=0;\n",
    "maxMetronome=48;\n",
    "while (count_ticks<maxMetronome):\n",
    "    count_ticks += 1;\n",
    "    line = ser.readline().strip()\n",
    "    byteArray = (line.split(b'-')) \n",
    "    while ((len(byteArray))!=5): \n",
    "        line = ser.readline().strip()\n",
    "        byteArray = (line.split(b'-'))\n",
    "    sb = list(map(lambda x:x.decode(),byteArray))\n",
    "    sbit = [None] * len(sb)\n",
    "    for x in range(0,len(sb)):\n",
    "         sbit[x] = \"{0:b}\".format(int(sb[x])).zfill(8) \n",
    "    print(sbit)"
   ]
  },
  {
   "cell_type": "code",
   "execution_count": null,
   "metadata": {
    "collapsed": true
   },
   "outputs": [],
   "source": []
  },
  {
   "cell_type": "code",
   "execution_count": null,
   "metadata": {
    "collapsed": true
   },
   "outputs": [],
   "source": []
  },
  {
   "cell_type": "code",
   "execution_count": null,
   "metadata": {
    "collapsed": true,
    "deletable": true,
    "editable": true
   },
   "outputs": [],
   "source": []
  },
  {
   "cell_type": "code",
   "execution_count": null,
   "metadata": {
    "collapsed": true,
    "deletable": true,
    "editable": true
   },
   "outputs": [],
   "source": []
  },
  {
   "cell_type": "code",
   "execution_count": null,
   "metadata": {
    "collapsed": true,
    "deletable": true,
    "editable": true
   },
   "outputs": [],
   "source": []
  }
 ],
 "metadata": {
  "kernelspec": {
   "display_name": "Python 3",
   "language": "python",
   "name": "python3"
  },
  "language_info": {
   "codemirror_mode": {
    "name": "ipython",
    "version": 3
   },
   "file_extension": ".py",
   "mimetype": "text/x-python",
   "name": "python",
   "nbconvert_exporter": "python",
   "pygments_lexer": "ipython3",
   "version": "3.5.2"
  }
 },
 "nbformat": 4,
 "nbformat_minor": 2
}

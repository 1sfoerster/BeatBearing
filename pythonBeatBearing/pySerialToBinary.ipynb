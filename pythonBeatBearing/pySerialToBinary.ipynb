{
 "cells": [
  {
   "cell_type": "code",
   "execution_count": 1,
   "metadata": {
    "collapsed": false,
    "deletable": true,
    "editable": true
   },
   "outputs": [
    {
     "name": "stdout",
     "output_type": "stream",
     "text": [
      "COM7\n",
      "b'8-25\\r\\n'\n"
     ]
    }
   ],
   "source": [
    "#execute this once, it opens the serial port, after executed it will hold serial port open until kernal is restarted\n",
    "#this means have to stop kernal to use putty, arduino ide to transmit code, arduino serial monitor, or comOcom \n",
    "#only one at a time can hold open the serial port\n",
    "\n",
    "#excute a second time, kernal will try to open serial port it has already opened and generate error message\n",
    "#to recover, restart the Kernal, suggest restart and run all\n",
    "\n",
    "import serial #is an enthought canopy package .. not part of the default .. will have to use package manager to load\n",
    "import io #is a python primitive\n",
    "ser = serial.Serial('COM7',19200)  # open serial port\n",
    "print(ser.name)         # check which port was really used\n",
    "line = ser.readline()\n",
    "print(line); #first line is usually not long enough, catching in the middle of something"
   ]
  },
  {
   "cell_type": "code",
   "execution_count": 18,
   "metadata": {
    "collapsed": false,
    "deletable": true,
    "editable": true
   },
   "outputs": [
    {
     "name": "stdout",
     "output_type": "stream",
     "text": [
      "b'36-149-7-88-31'\n"
     ]
    }
   ],
   "source": [
    "#press control-enter over and over again here until get some good data\n",
    "#the first line of data above is usually partial, because USB communication is ASYNC \n",
    "################################# rant ########################################\n",
    "#here \\r\\n are used to mark the end of a line of 5 characters by the program the arduino is running\n",
    "#strip() strips off carriage return \\r and ... this is really hard to talk about\n",
    "# \\n which stands for New line in the unix world and makes sense\n",
    "# \\n which stands for Line Feed : paper advances one line on typewriter with out going to left martin) in Microsoft world\n",
    "# The confusion emerged out of the evolution of typewriters into printers versus evolution of terminals into GUI's and serial com\n",
    "# Unix got it right early on ... \\n means new line in a text editor ... not printer hardware .. \n",
    "# which gets us into a world wide crisis\n",
    "# https://blog.codinghorror.com/the-great-newline-schism/\n",
    "# end result could be double spacing on non-windows, normal single spacing on windows inside other terminal type programs\n",
    "# the other option is one huge line in windows .. and normal single spacing on everything else\n",
    "line = ser.readline().strip()\n",
    "print(line);"
   ]
  },
  {
   "cell_type": "code",
   "execution_count": 13,
   "metadata": {
    "collapsed": false,
    "deletable": true,
    "editable": true
   },
   "outputs": [
    {
     "name": "stdout",
     "output_type": "stream",
     "text": [
      "51\n"
     ]
    }
   ],
   "source": [
    "print(line[0]) #the ascii equivalent of 2 (of 231) is 50:"
   ]
  },
  {
   "cell_type": "code",
   "execution_count": 14,
   "metadata": {
    "collapsed": false,
    "deletable": true,
    "editable": true
   },
   "outputs": [
    {
     "name": "stdout",
     "output_type": "stream",
     "text": [
      "[b'36', b'149', b'7', b'88', b'30']\n",
      "b'36'\n"
     ]
    }
   ],
   "source": [
    "#b means byte object\n",
    "byteArray = (line.split(b'-')) \n",
    "print(byteArray)\n",
    "print(byteArray[0])"
   ]
  },
  {
   "cell_type": "code",
   "execution_count": 15,
   "metadata": {
    "collapsed": false,
    "deletable": true,
    "editable": true
   },
   "outputs": [
    {
     "name": "stdout",
     "output_type": "stream",
     "text": [
      "36\n"
     ]
    }
   ],
   "source": [
    "# this converts the individual bytes into a string\n",
    "sb1 = byteArray[0].decode()\n",
    "print(sb1)"
   ]
  },
  {
   "cell_type": "code",
   "execution_count": 17,
   "metadata": {
    "collapsed": false,
    "deletable": true,
    "editable": true
   },
   "outputs": [
    {
     "data": {
      "text/plain": [
       "['36', '149', '7', '88', '30']"
      ]
     },
     "execution_count": 17,
     "metadata": {},
     "output_type": "execute_result"
    }
   ],
   "source": [
    "# now want to do all of this at once (avoid a loop) here is practicing from stackexchange 2682012\n",
    "# so trying with decode and byteArray\n",
    "sb = list(map(lambda x:x.decode(),byteArray))\n",
    "sb"
   ]
  },
  {
   "cell_type": "code",
   "execution_count": 7,
   "metadata": {
    "collapsed": false
   },
   "outputs": [
    {
     "data": {
      "text/plain": [
       "'100100'"
      ]
     },
     "execution_count": 7,
     "metadata": {},
     "output_type": "execute_result"
    }
   ],
   "source": [
    "# now that sb is a byte list, want to turn each element into it's string binary representation \n",
    "# here is how to do it for one byte, one element of the byteArray\n",
    "\"{0:b}\".format(int(sb[0]))"
   ]
  },
  {
   "cell_type": "code",
   "execution_count": 8,
   "metadata": {
    "collapsed": false,
    "deletable": true,
    "editable": true
   },
   "outputs": [
    {
     "name": "stdout",
     "output_type": "stream",
     "text": [
      "['00100100', '10010101', '00000111', '01011000', '00011010']\n"
     ]
    }
   ],
   "source": [
    "# now want to do this for each element of the byteArray\n",
    "sbit = [None] * len(sb)\n",
    "for x in range(0,len(sb)):\n",
    "    # 0:b means display the bits of an integer\n",
    "    # z.fill(8) means put leading zero's on the string so there are 8 bits\n",
    "    # finally put everything into a string array so don't ever have to do this again\n",
    "    sbit[x] = \"{0:b}\".format(int(sb[x])).zfill(8) \n",
    "\n",
    "print(sbit)"
   ]
  },
  {
   "cell_type": "code",
   "execution_count": null,
   "metadata": {
    "collapsed": true
   },
   "outputs": [],
   "source": []
  }
 ],
 "metadata": {
  "kernelspec": {
   "display_name": "Python 3",
   "language": "python",
   "name": "python3"
  },
  "language_info": {
   "codemirror_mode": {
    "name": "ipython",
    "version": 3
   },
   "file_extension": ".py",
   "mimetype": "text/x-python",
   "name": "python",
   "nbconvert_exporter": "python",
   "pygments_lexer": "ipython3",
   "version": "3.5.2"
  }
 },
 "nbformat": 4,
 "nbformat_minor": 2
}
